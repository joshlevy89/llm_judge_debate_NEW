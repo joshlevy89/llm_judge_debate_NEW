{
  "cells": [
    {
      "cell_type": "code",
      "execution_count": null,
      "metadata": {},
      "outputs": [],
      "source": [
        "import pandas as pd\n",
        "import matplotlib.pyplot as plt"
      ]
    },
    {
      "cell_type": "markdown",
      "metadata": {},
      "source": [
        "### Analyze direct QA"
      ]
    },
    {
      "cell_type": "code",
      "execution_count": 345,
      "metadata": {},
      "outputs": [],
      "source": [
        "def load_qa(filters=None):\n",
        "    df = pd.read_json(\"results/qa_results.jsonl\", lines=True)\n",
        "    \n",
        "    config_df = pd.json_normalize(df['config'])\n",
        "    config_df.columns = ['config_' + col for col in config_df.columns]\n",
        "    df = pd.concat([df, config_df], axis=1)\n",
        "\n",
        "    df['options_str'] = df['options'].apply(str)\n",
        "\n",
        "    df = df.sort_values('datetime', ascending=False).drop_duplicates(\n",
        "        subset=['question', 'options_str', 'config_model_name'], keep='first')\n",
        "\n",
        "    df['parsed_answer'] = df['parsed_model_response'].apply(lambda x: x.get('answer'))\n",
        "    df = df[df['parsed_answer'].notna()]\n",
        "\n",
        "    df['is_correct'] = df['parsed_answer'] == df['correct_idx']\n",
        "    \n",
        "    if filters:\n",
        "        for col, val in filters.items():\n",
        "            if val is None:\n",
        "                df = df[df[col].isna()]\n",
        "            else:\n",
        "                df = df[df[col] == val]\n",
        "    \n",
        "    return df"
      ]
    },
    {
      "cell_type": "code",
      "execution_count": 346,
      "metadata": {},
      "outputs": [],
      "source": [
        "filters = {\n",
        "    # MODEL OPTIONS\n",
        "    'config_model_name': \"x-ai/grok-4-fast\",\n",
        "    # 'config_model_name': \"openai/gpt-4o-mini\",\n",
        "\n",
        "    # DATASET OPTIONS\n",
        "    # 'config_dataset_name': \"Idavidrein/gpqa\",\n",
        "    # 'config_dataset_subset': \"gpqa_diamond\",\n",
        "    # 'config_dataset_split': \"train\",\n",
        "\n",
        "    'config_dataset_name': \"TIGER-Lab/MMLU-Pro\",\n",
        "    'config_dataset_subset': None,\n",
        "    'config_dataset_split': \"test\",\n",
        "\n",
        "    # OTHER OPTIONS\n",
        "    'config_random_seed': 42,\n",
        "    'config_num_choices': 4,\n",
        "}\n"
      ]
    },
    {
      "cell_type": "code",
      "execution_count": 347,
      "metadata": {},
      "outputs": [
        {
          "name": "stdout",
          "output_type": "stream",
          "text": [
            "Accuracy: 92.00%\n",
            "Correct: 92/100\n"
          ]
        }
      ],
      "source": [
        "df = load_qa(filters)\n",
        "\n",
        "valid_df = df[df['parsed_answer'].notna()]\n",
        "accuracy = valid_df['is_correct'].mean()\n",
        "correct_count = valid_df['is_correct'].sum()\n",
        "total_count = len(valid_df)\n",
        "\n",
        "print(f\"Accuracy: {accuracy:.2%}\")\n",
        "print(f\"Correct: {correct_count}/{total_count}\")"
      ]
    },
    {
      "cell_type": "markdown",
      "metadata": {},
      "source": [
        "### Analyze debate"
      ]
    },
    {
      "cell_type": "code",
      "execution_count": 348,
      "metadata": {},
      "outputs": [],
      "source": [
        "def load_debate(debate_run_id):\n",
        "    df = pd.read_json(f\"results/debate/{debate_run_id}.jsonl\", lines=True)\n",
        "    config_df = pd.json_normalize(df['config'])\n",
        "    config_df.columns = ['debate_' + col for col in config_df.columns]\n",
        "    df = pd.concat([df, config_df], axis=1)\n",
        "    df['options_str'] = df['options'].apply(str)\n",
        "    return df\n",
        "\n",
        "def load_verdict(verdict_run_id):\n",
        "    df = pd.read_json(f\"results/verdicts/{verdict_run_id}.jsonl\", lines=True)\n",
        "    config_df = pd.json_normalize(df['config'])\n",
        "    config_df.columns = ['verdict_' + col for col in config_df.columns]\n",
        "    df = pd.concat([df, config_df], axis=1)\n",
        "    return df\n",
        "\n",
        "def load_debate_and_verdict(verdict_run_id):\n",
        "    verdict_df = load_verdict(verdict_run_id)\n",
        "    debate_run_id = verdict_df['debate_run_id'].iloc[0]\n",
        "    debate_df = load_debate(debate_run_id)\n",
        "    \n",
        "    df = debate_df.merge(verdict_df[['record_id', 'judge_verdict', 'verdict_judge_model']], on='record_id')\n",
        "    df['parsed_answer'] = df['judge_verdict'].apply(lambda x: x.get('parsed', {}).get('answer'))\n",
        "    df = df[df['parsed_answer'].notna()]\n",
        "    df['is_correct_verdict'] = df['parsed_answer'] == df['correct_idx']\n",
        "    \n",
        "    return df"
      ]
    },
    {
      "cell_type": "code",
      "execution_count": 349,
      "metadata": {},
      "outputs": [
        {
          "name": "stdout",
          "output_type": "stream",
          "text": [
            "Accuracy: 87.50%\n",
            "Correct: 14/16\n"
          ]
        }
      ],
      "source": [
        "# run_id = 'ey2anfr'\n",
        "run_id = 'hkpd1jy'\n",
        "\n",
        "df = load_debate_and_verdict(run_id)\n",
        "\n",
        "valid_df = df[df['parsed_answer'].notna()]\n",
        "accuracy = valid_df['is_correct_verdict'].mean()\n",
        "correct_count = valid_df['is_correct_verdict'].sum()\n",
        "total_count = len(valid_df)\n",
        "\n",
        "print(f\"Accuracy: {accuracy:.2%}\")\n",
        "print(f\"Correct: {correct_count}/{total_count}\")"
      ]
    },
    {
      "cell_type": "markdown",
      "metadata": {},
      "source": [
        "### Compare QA and Debate"
      ]
    },
    {
      "cell_type": "code",
      "execution_count": 350,
      "metadata": {},
      "outputs": [],
      "source": [
        "def load_debate_and_verdict_and_qa(verdict_run_id):\n",
        "    df = load_debate_and_verdict(verdict_run_id)\n",
        "    \n",
        "    qa_df = load_qa(filters=None)\n",
        "    qa_df = qa_df[['question', 'options_str', 'config_model_name', 'is_correct']]\n",
        "    \n",
        "    judge_qa = qa_df.rename(columns={'is_correct': 'is_correct_judge_qa'})\n",
        "    df = df.merge(judge_qa, left_on=['question', 'options_str', 'verdict_judge_model'], \n",
        "                  right_on=['question', 'options_str', 'config_model_name'], how='left')\n",
        "    \n",
        "    debater_qa = qa_df.rename(columns={'is_correct': 'is_correct_debater_qa'})\n",
        "    df = df.merge(debater_qa, left_on=['question', 'options_str', 'debate_debater_model'], \n",
        "                  right_on=['question', 'options_str', 'config_model_name'], how='left')\n",
        "    \n",
        "    df = df[df['is_correct_verdict'].notna() & df['is_correct_judge_qa'].notna() & df['is_correct_debater_qa'].notna()]\n",
        "    \n",
        "    return df"
      ]
    },
    {
      "cell_type": "code",
      "execution_count": 351,
      "metadata": {},
      "outputs": [
        {
          "name": "stdout",
          "output_type": "stream",
          "text": [
            "Judge QA: 0.75 (12/16)\n",
            "Debater QA: 1.0 (16/16)\n",
            "Debate Verdict: 0.88 (14/16)\n"
          ]
        }
      ],
      "source": [
        "verdict_run_id = 'hkpd1jy'\n",
        "\n",
        "merged_df = load_debate_and_verdict_and_qa(verdict_run_id)\n",
        "\n",
        "judge_qa = merged_df[\"is_correct_judge_qa\"].mean().round(2) \n",
        "debater_qa = merged_df[\"is_correct_debater_qa\"].mean().round(2)\n",
        "debate_verdict = merged_df[\"is_correct_verdict\"].mean().round(2)\n",
        "\n",
        "print(f'Judge QA: {judge_qa} ({merged_df[\"is_correct_judge_qa\"].sum()}/{merged_df[\"is_correct_judge_qa\"].count()})')\n",
        "print(f'Debater QA: {debater_qa} ({merged_df[\"is_correct_debater_qa\"].sum()}/{merged_df[\"is_correct_debater_qa\"].count()})')\n",
        "print(f'Debate Verdict: {debate_verdict} ({merged_df[\"is_correct_verdict\"].sum()}/{merged_df[\"is_correct_verdict\"].count()})')"
      ]
    },
    {
      "cell_type": "code",
      "execution_count": 352,
      "metadata": {},
      "outputs": [
        {
          "data": {
            "image/png": "[encoded data removed]",
            "text/plain": [
              "<Figure size 800x500 with 1 Axes>"
            ]
          },
          "metadata": {},
          "output_type": "display_data"
        }
      ],
      "source": [
        "fig, ax = plt.subplots(figsize=(8, 5))\n",
        "ax.bar(['Debater QA', 'Judge QA', 'Debate Verdict'], [debater_qa, judge_qa, debate_verdict], color=['#e74c3c', '#3498db', '#2ecc71'])\n",
        "ax.set_ylabel('Accuracy')\n",
        "ax.set_ylim(0, 1)\n",
        "ax.yaxis.set_major_formatter(plt.FuncFormatter(lambda y, _: f'{y:.0%}'))\n",
        "debater_model = merged_df['debate_debater_model'].iloc[0]\n",
        "judge_model = merged_df['verdict_judge_model'].iloc[0]\n",
        "plt.title(f'Verdict: {verdict_run_id}\\ndebater: {debater_model}, judge: {judge_model}')\n",
        "plt.tight_layout()\n",
        "plt.show()"
      ]
    },
    {
      "cell_type": "markdown",
      "metadata": {},
      "source": [
        "### Analyze token usage in the debate run"
      ]
    },
    {
      "cell_type": "code",
      "execution_count": 353,
      "metadata": {},
      "outputs": [
        {
          "name": "stdout",
          "output_type": "stream",
          "text": [
            "['uopkylg', '0g649bb', 'dn0srf9', 'pvy2pz2', 'z6cpl1k', 'fhpjpo6', 'ug10m7x', 'i4kch6d', 'dezmdd2', 'jw0dpuy', 'qs23z34', 'uy2xyzr', 'sq9cqvp', 'cgttxpu', 'ftrrg0m', 'os7f0j8']\n",
            "completion_tokens_used_per_debate: [2449, 2630, 2459, 2581, 2982, 3107, 3925, 2791, 5296, 8696, 13599, 14033, 17834, 18264, 20398, 15979]\n",
            "reasoning_tokens_used_per_debate: [1385, 1538, 1373, 1445, 1919, 1937, 2696, 1701, 3874, 7343, 12072, 12755, 16497, 16887, 18834, 15049]\n"
          ]
        }
      ],
      "source": [
        "run_id = 'dcg8y0b'\n",
        "\n",
        "debate_df = load_debate(run_id)\n",
        "\n",
        "record_ids = []\n",
        "completion_tokens_used_per_debate = []\n",
        "reasoning_tokens_used_per_debate = []\n",
        "for i, row in debate_df.iterrows():\n",
        "    record_ids.append(row['record_id'])\n",
        "    debate_history = row['debate_history']\n",
        "    completion_tokens_used_this_debate, reasoning_tokens_used_this_debate = 0, 0\n",
        "    for turn in debate_history:\n",
        "        completion_tokens_used_this_debate += turn['token_usage']['completion_tokens']\n",
        "        if 'completion_tokens_details' in turn['token_usage'] and turn['token_usage']['completion_tokens_details'] is not None:\n",
        "            reasoning_tokens_used_this_debate += turn['token_usage']['completion_tokens_details']['reasoning_tokens']\n",
        "        else:\n",
        "            reasoning_tokens_used_this_debate += 0\n",
        "    completion_tokens_used_per_debate.append(completion_tokens_used_this_debate)\n",
        "    reasoning_tokens_used_per_debate.append(reasoning_tokens_used_this_debate)\n",
        "\n",
        "print(record_ids)\n",
        "print(f\"completion_tokens_used_per_debate: {completion_tokens_used_per_debate}\")\n",
        "print(f\"reasoning_tokens_used_per_debate: {reasoning_tokens_used_per_debate}\")\n"
      ]
    },
    {
      "cell_type": "code",
      "execution_count": 354,
      "metadata": {},
      "outputs": [
        {
          "name": "stdout",
          "output_type": "stream",
          "text": [
            "137023\n",
            "117305\n"
          ]
        }
      ],
      "source": [
        "import numpy as np\n",
        "print(np.sum(completion_tokens_used_per_debate))\n",
        "print(np.sum(reasoning_tokens_used_per_debate))\n"
      ]
    }
  ],
  "metadata": {
    "kernelspec": {
      "display_name": "llm_judge_debate_NEW_env",
      "language": "python",
      "name": "python3"
    },
    "language_info": {
      "codemirror_mode": {
        "name": "ipython",
        "version": 3
      },
      "file_extension": ".py",
      "mimetype": "text/x-python",
      "name": "python",
      "nbconvert_exporter": "python",
      "pygments_lexer": "ipython3",
      "version": "3.11.13"
    }
  },
  "nbformat": 4,
  "nbformat_minor": 2
}
