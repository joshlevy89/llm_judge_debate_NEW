{
  "cells": [
    {
      "cell_type": "code",
      "execution_count": null,
      "metadata": {},
      "outputs": [],
      "source": [
        "import pandas as pd\n",
        "import matplotlib.pyplot as plt"
      ]
    },
    {
      "cell_type": "markdown",
      "metadata": {},
      "source": [
        "### Analyze direct QA"
      ]
    },
    {
      "cell_type": "code",
      "execution_count": 243,
      "metadata": {},
      "outputs": [],
      "source": [
        "def load_qa_results(filters=None):\n",
        "    df = pd.read_json(\"results/qa_results.jsonl\", lines=True)\n",
        "    \n",
        "    config_df = pd.json_normalize(df['config'])\n",
        "    config_df.columns = ['config_' + col for col in config_df.columns]\n",
        "    df = pd.concat([df, config_df], axis=1)\n",
        "\n",
        "    df['options_str'] = df['options'].apply(str)\n",
        "\n",
        "    df = df.sort_values('datetime', ascending=False).drop_duplicates(\n",
        "        subset=['question', 'options_str', 'config_model_name'], keep='first')\n",
        "\n",
        "    df['parsed_answer'] = df['parsed_model_response'].apply(lambda x: x.get('answer'))\n",
        "    df = df[df['parsed_answer'].notna()]\n",
        "\n",
        "    df['is_correct'] = df['parsed_answer'] == df['correct_idx']\n",
        "    \n",
        "    if filters:\n",
        "        for col, val in filters.items():\n",
        "            if val is None:\n",
        "                df = df[df[col].isna()]\n",
        "            else:\n",
        "                df = df[df[col] == val]\n",
        "    \n",
        "    return df"
      ]
    },
    {
      "cell_type": "code",
      "execution_count": 244,
      "metadata": {},
      "outputs": [],
      "source": [
        "filters = {\n",
        "    # MODEL OPTIONS\n",
        "    'config_model_name': \"x-ai/grok-4-fast\",\n",
        "    # 'config_model_name': \"openai/gpt-4o-mini\",\n",
        "\n",
        "    # DATASET OPTIONS\n",
        "    # 'config_dataset_name': \"Idavidrein/gpqa\",\n",
        "    # 'config_dataset_subset': \"gpqa_diamond\",\n",
        "    # 'config_dataset_split': \"train\",\n",
        "\n",
        "    'config_dataset_name': \"TIGER-Lab/MMLU-Pro\",\n",
        "    'config_dataset_subset': None,\n",
        "    'config_dataset_split': \"test\",\n",
        "\n",
        "    # OTHER OPTIONS\n",
        "    'config_random_seed': 42,\n",
        "    'config_num_choices': 4,\n",
        "}\n"
      ]
    },
    {
      "cell_type": "code",
      "execution_count": 245,
      "metadata": {},
      "outputs": [
        {
          "name": "stdout",
          "output_type": "stream",
          "text": [
            "Accuracy: 92.00%\n",
            "Correct: 92/100\n"
          ]
        }
      ],
      "source": [
        "df = load_qa_results(filters)\n",
        "\n",
        "valid_df = df[df['parsed_answer'].notna()]\n",
        "accuracy = valid_df['is_correct'].mean()\n",
        "correct_count = valid_df['is_correct'].sum()\n",
        "total_count = len(valid_df)\n",
        "\n",
        "print(f\"Accuracy: {accuracy:.2%}\")\n",
        "print(f\"Correct: {correct_count}/{total_count}\")"
      ]
    },
    {
      "cell_type": "markdown",
      "metadata": {},
      "source": [
        "### Analyze debate"
      ]
    },
    {
      "cell_type": "code",
      "execution_count": 198,
      "metadata": {},
      "outputs": [],
      "source": [
        "def load_debate_results(run_id):\n",
        "    # Load the debate results\n",
        "    results_file = f\"results/debate/{run_id}.jsonl\"\n",
        "\n",
        "    df = pd.read_json(results_file, lines=True)\n",
        "\n",
        "    config_df = pd.json_normalize(df['config'])\n",
        "    config_df.columns = ['config_' + col for col in config_df.columns]\n",
        "    df = pd.concat([df, config_df], axis=1)\n",
        "    \n",
        "    df['options_str'] = df['options'].apply(str)\n",
        "\n",
        "    # Add is correct field\n",
        "    df['parsed_answer'] = df['judge_verdict'].apply(lambda x: x.get('parsed', {}).get('answer', {}))\n",
        "    df = df[df['parsed_answer'].notna()]\n",
        "    df['is_correct'] =  df['parsed_answer'] == df['correct_idx']\n",
        "\n",
        "    return df"
      ]
    },
    {
      "cell_type": "code",
      "execution_count": 233,
      "metadata": {},
      "outputs": [
        {
          "name": "stdout",
          "output_type": "stream",
          "text": [
            "Accuracy: 50.00%\n",
            "Correct: 1/2\n"
          ]
        }
      ],
      "source": [
        "# run_id = 'ey2anfr'\n",
        "run_id = 'usizxo3'\n",
        "\n",
        "df = load_debate_results(run_id)\n",
        "\n",
        "valid_df = df[df['parsed_answer'].notna()]\n",
        "accuracy = valid_df['is_correct'].mean()\n",
        "correct_count = valid_df['is_correct'].sum()\n",
        "total_count = len(valid_df)\n",
        "\n",
        "print(f\"Accuracy: {accuracy:.2%}\")\n",
        "print(f\"Correct: {correct_count}/{total_count}\")"
      ]
    },
    {
      "cell_type": "markdown",
      "metadata": {},
      "source": [
        "### Compare QA and Debate"
      ]
    },
    {
      "cell_type": "code",
      "execution_count": 240,
      "metadata": {},
      "outputs": [],
      "source": [
        "def load_debate_with_qa(run_id):\n",
        "    qa_df = load_qa_results(filters=None)\n",
        "    qa_df = qa_df[['question', 'options_str', 'config_model_name', 'is_correct']]\n",
        "\n",
        "    debate_df = load_debate_results(run_id)\n",
        "\n",
        "    merged_df = debate_df.merge(\n",
        "        qa_df,\n",
        "        left_on=['question', 'options_str', 'config_judge_model'],\n",
        "        right_on=['question', 'options_str', 'config_model_name'],\n",
        "        how='left', suffixes=('', '_judge_qa'))\n",
        "\n",
        "    merged_df = merged_df.merge(\n",
        "        qa_df,\n",
        "        left_on=['question', 'options_str', 'config_debater_model'],\n",
        "        right_on=['question', 'options_str', 'config_model_name'],\n",
        "        how='left', suffixes=('', '_debater_qa'))\n",
        "\n",
        "    # only keep rows where all is_correct fields are not None\n",
        "    merged_df = merged_df[merged_df['is_correct'].notna() & merged_df['is_correct_judge_qa'].notna() & merged_df['is_correct_debater_qa'].notna()]\n",
        "\n",
        "    return merged_df"
      ]
    },
    {
      "cell_type": "code",
      "execution_count": 241,
      "metadata": {},
      "outputs": [
        {
          "name": "stdout",
          "output_type": "stream",
          "text": [
            "Judge QA: 1.0 (2/2)\n",
            "Debater QA: 1.0 (2/2)\n",
            "Debate Verdict: 0.5 (1/2)\n"
          ]
        }
      ],
      "source": [
        "run_id = 'usizxo3'\n",
        "\n",
        "merged_df = load_debate_with_qa(run_id)\n",
        "\n",
        "judge_qa = merged_df[\"is_correct_judge_qa\"].mean().round(2) \n",
        "debater_qa = merged_df[\"is_correct_debater_qa\"].mean().round(2)\n",
        "debate_verdict = merged_df[\"is_correct\"].mean().round(2)\n",
        "\n",
        "print(f'Judge QA: {judge_qa} ({merged_df[\"is_correct_judge_qa\"].sum()}/{merged_df[\"is_correct_judge_qa\"].count()})')\n",
        "print(f'Debater QA: {debater_qa} ({merged_df[\"is_correct_debater_qa\"].sum()}/{merged_df[\"is_correct_debater_qa\"].count()})')\n",
        "print(f'Debate Verdict: {debate_verdict} ({merged_df[\"is_correct\"].sum()}/{merged_df[\"is_correct\"].count()})')"
      ]
    },
    {
      "cell_type": "code",
      "execution_count": 242,
      "metadata": {},
      "outputs": [
        {
          "data": {
            "image/png": "[encoded data removed]",
            "text/plain": [
              "<Figure size 800x500 with 1 Axes>"
            ]
          },
          "metadata": {},
          "output_type": "display_data"
        }
      ],
      "source": [
        "fig, ax = plt.subplots(figsize=(8, 5))\n",
        "ax.bar(['Debater QA', 'Judge QA', 'Debate Verdict'], [debater_qa, judge_qa, debate_verdict], color=['#e74c3c', '#3498db', '#2ecc71'])\n",
        "ax.set_ylabel('Accuracy')\n",
        "ax.set_ylim(0, 1)\n",
        "ax.yaxis.set_major_formatter(plt.FuncFormatter(lambda y, _: f'{y:.0%}'))\n",
        "debater_model = merged_df['config_debater_model'].iloc[0]\n",
        "judge_model = merged_df['config_judge_model'].iloc[0]\n",
        "plt.title(f'{run_id}\\ndebater: {debater_model}, judge: {judge_model}')\n",
        "plt.tight_layout()\n",
        "plt.show()"
      ]
    },
    {
      "cell_type": "markdown",
      "metadata": {},
      "source": [
        "### Analyze token usage in the debate run"
      ]
    },
    {
      "cell_type": "code",
      "execution_count": 260,
      "metadata": {},
      "outputs": [
        {
          "name": "stdout",
          "output_type": "stream",
          "text": [
            "[4252, 3861, 4627, 5088, 4601, 6105, 5138, 5907, 6303, 9606, 9436, 10798, 13006, 16185, 18999, 26467, 47614, 56981]\n",
            "lo\n",
            "[1554, 1195, 2024, 1363, 1504, 2701, 2606, 2955, 2297, 6968, 6537, 8140, 9862, 11983, 15872, 23232, 44658, 54178]\n"
          ]
        }
      ],
      "source": [
        "run_id = 's17e3id'\n",
        "\n",
        "debate_df = load_debate_results(run_id)\n",
        "\n",
        "total_tokens_used_per_debate = []\n",
        "reasoning_tokens_used_per_debate = []\n",
        "for i, row in debate_df.iterrows():\n",
        "    debate_history = row['debate_history']\n",
        "    total_tokens_used_this_debate, reasoning_tokens_used_this_debate = 0, 0\n",
        "    for turn in debate_history:\n",
        "        total_tokens_used_this_debate += turn['token_usage']['total_tokens']\n",
        "        reasoning_tokens_used_this_debate += turn['token_usage']['completion_tokens_details']['reasoning_tokens']\n",
        "    total_tokens_used_per_debate.append(total_tokens_used_this_debate)\n",
        "    reasoning_tokens_used_per_debate.append(reasoning_tokens_used_this_debate)\n",
        "\n",
        "print(total_tokens_used_per_debate)\n",
        "print('lo')\n",
        "print(reasoning_tokens_used_per_debate)\n"
      ]
    }
  ],
  "metadata": {
    "kernelspec": {
      "display_name": "llm_judge_debate_NEW_env",
      "language": "python",
      "name": "python3"
    },
    "language_info": {
      "codemirror_mode": {
        "name": "ipython",
        "version": 3
      },
      "file_extension": ".py",
      "mimetype": "text/x-python",
      "name": "python",
      "nbconvert_exporter": "python",
      "pygments_lexer": "ipython3",
      "version": "3.11.13"
    }
  },
  "nbformat": 4,
  "nbformat_minor": 2
}
